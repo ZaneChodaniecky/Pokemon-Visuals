{
 "cells": [
  {
   "cell_type": "code",
   "execution_count": 1,
   "id": "1c0dfeb7",
   "metadata": {},
   "outputs": [],
   "source": [
    "import pandas as pd\n",
    "import numpy as np\n",
    "import itertools \n",
    "import socket\n",
    "import os"
   ]
  },
  {
   "cell_type": "code",
   "execution_count": 2,
   "id": "b58beff5",
   "metadata": {},
   "outputs": [],
   "source": [
    "df = pd.read_csv('data\\pokemon_dataset.csv')"
   ]
  },
  {
   "cell_type": "code",
   "execution_count": 3,
   "id": "c31a5b67",
   "metadata": {},
   "outputs": [],
   "source": [
    "# Create column C based on the condition\n",
    "df['dual_type'] = df.apply(lambda row: f\"{row['primary_type']}/{row['secondary_type']}\" \n",
    "                           if pd.notna(row['secondary_type']) else row['primary_type'], axis=1)"
   ]
  },
  {
   "cell_type": "code",
   "execution_count": null,
   "id": "6d2abe20",
   "metadata": {},
   "outputs": [],
   "source": []
  },
  {
   "cell_type": "code",
   "execution_count": null,
   "id": "01c21af3",
   "metadata": {},
   "outputs": [],
   "source": []
  }
 ],
 "metadata": {
  "kernelspec": {
   "display_name": "Python 3 (ipykernel)",
   "language": "python",
   "name": "python3"
  },
  "language_info": {
   "codemirror_mode": {
    "name": "ipython",
    "version": 3
   },
   "file_extension": ".py",
   "mimetype": "text/x-python",
   "name": "python",
   "nbconvert_exporter": "python",
   "pygments_lexer": "ipython3",
   "version": "3.11.5"
  }
 },
 "nbformat": 4,
 "nbformat_minor": 5
}
